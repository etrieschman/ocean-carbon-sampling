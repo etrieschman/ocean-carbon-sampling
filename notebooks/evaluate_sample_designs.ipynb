{
 "cells": [
  {
   "cell_type": "markdown",
   "id": "0f510e11-2a8d-4ad4-94e0-9ee7668c9906",
   "metadata": {},
   "source": [
    "# Evaluate sample designs"
   ]
  },
  {
   "cell_type": "code",
   "execution_count": 1,
   "id": "6cc1099e-6c6e-4883-a989-9206a10cede5",
   "metadata": {
    "tags": []
   },
   "outputs": [
    {
     "name": "stderr",
     "output_type": "stream",
     "text": [
      "/Users/etriesch/.pyenv/versions/3.9.5/envs/venv.ocean-carbon-sampling/lib/python3.9/site-packages/geopandas/_compat.py:111: UserWarning: The Shapely GEOS version (3.10.2-CAPI-1.16.0) is incompatible with the GEOS version PyGEOS was compiled with (3.10.1-CAPI-1.16.0). Conversions between both will be slow.\n",
      "  warnings.warn(\n"
     ]
    }
   ],
   "source": [
    "from pathlib import Path\n",
    "import os\n",
    "from tqdm import tqdm\n",
    "import pandas as pd\n",
    "import numpy as np\n",
    "import matplotlib as matplotlib\n",
    "import matplotlib.pyplot as plt\n",
    "import datetime as dt\n",
    "import shapely\n",
    "from shapely.geometry import Point, Polygon, MultiPoint, MultiPolygon\n",
    "import geopandas as gpd\n",
    "import xarray as xr\n",
    "import itertools\n",
    "import scipy\n",
    "import statsmodels.api as sm\n",
    "\n",
    "from sklearn import cluster\n",
    "from sklearn import neighbors\n",
    "from sklearn.model_selection import train_test_split, ShuffleSplit, cross_validate\n",
    "from sklearn import metrics, cluster\n",
    "\n",
    "from sklearn.tree import DecisionTreeRegressor\n",
    "from sklearn.ensemble import AdaBoostRegressor\n",
    "\n",
    "from sklearn.dummy import DummyRegressor\n",
    "from sklearn.model_selection import ShuffleSplit, GroupKFold, cross_validate, GridSearchCV\n",
    "from sklearn.linear_model import LinearRegression, Lasso, lasso_path\n",
    "\n",
    "from sklearn.preprocessing import KBinsDiscretizer, StandardScaler\n",
    "\n",
    "import cvxpy as cp"
   ]
  },
  {
   "cell_type": "markdown",
   "id": "4cb657d4-97a5-4fd6-a010-aea46ac475d2",
   "metadata": {},
   "source": [
    "# Simulation 1 - PCO2 unrelated to remote sensing features"
   ]
  },
  {
   "cell_type": "code",
   "execution_count": 6,
   "id": "e4f13dd2-937d-4139-b101-3da197efe9f6",
   "metadata": {},
   "outputs": [],
   "source": [
    "MEAN_EFFECT = 15\n",
    "SD_EFFECT = 60\n",
    "sim_rs = np.random.normal(MEAN_EFFECT, SD_EFFECT, 200)\n",
    "sim_mstd = pd.Series(sim_rs).agg(['mean', 'std'])"
   ]
  },
  {
   "cell_type": "code",
   "execution_count": 7,
   "id": "984f39e0-56da-4be0-983c-753a418e2d7f",
   "metadata": {},
   "outputs": [
    {
     "data": {
      "text/plain": [
       "mean    13.105564\n",
       "std     61.032304\n",
       "dtype: float64"
      ]
     },
     "execution_count": 7,
     "metadata": {},
     "output_type": "execute_result"
    }
   ],
   "source": [
    "sim_rs_mstd"
   ]
  },
  {
   "cell_type": "markdown",
   "id": "d92199a6-1e2b-4ba7-9c6b-c9292ae72d85",
   "metadata": {},
   "source": [
    "# Simulation 2 - pCO2 as a function of remote sensing features"
   ]
  },
  {
   "cell_type": "markdown",
   "id": "c97e73ec-e8e7-488b-8242-32ff24595352",
   "metadata": {},
   "source": [
    "# Simulation 3 - pCO2 as a function of remote sensing features and other"
   ]
  },
  {
   "cell_type": "code",
   "execution_count": null,
   "id": "f29009c9-d12e-431e-8ad4-064bdc94b685",
   "metadata": {},
   "outputs": [],
   "source": []
  }
 ],
 "metadata": {
  "kernelspec": {
   "display_name": "Python 3 (ipykernel)",
   "language": "python",
   "name": "python3"
  },
  "language_info": {
   "codemirror_mode": {
    "name": "ipython",
    "version": 3
   },
   "file_extension": ".py",
   "mimetype": "text/x-python",
   "name": "python",
   "nbconvert_exporter": "python",
   "pygments_lexer": "ipython3",
   "version": "3.9.5"
  }
 },
 "nbformat": 4,
 "nbformat_minor": 5
}
