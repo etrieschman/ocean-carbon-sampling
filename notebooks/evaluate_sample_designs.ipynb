{
 "cells": [
  {
   "cell_type": "markdown",
   "id": "0f510e11-2a8d-4ad4-94e0-9ee7668c9906",
   "metadata": {},
   "source": [
    "# Evaluate sample designs"
   ]
  },
  {
   "cell_type": "code",
   "execution_count": 1,
   "id": "6cc1099e-6c6e-4883-a989-9206a10cede5",
   "metadata": {
    "tags": []
   },
   "outputs": [
    {
     "name": "stderr",
     "output_type": "stream",
     "text": [
      "/Users/etriesch/.pyenv/versions/3.9.5/envs/venv.ocean-carbon-sampling/lib/python3.9/site-packages/geopandas/_compat.py:111: UserWarning: The Shapely GEOS version (3.10.2-CAPI-1.16.0) is incompatible with the GEOS version PyGEOS was compiled with (3.10.1-CAPI-1.16.0). Conversions between both will be slow.\n",
      "  warnings.warn(\n"
     ]
    }
   ],
   "source": [
    "from pathlib import Path\n",
    "import os\n",
    "from tqdm import tqdm\n",
    "import pandas as pd\n",
    "import numpy as np\n",
    "import matplotlib as matplotlib\n",
    "import matplotlib.pyplot as plt\n",
    "import datetime as dt\n",
    "import shapely\n",
    "from shapely.geometry import Point, Polygon, MultiPoint, MultiPolygon\n",
    "import geopandas as gpd\n",
    "import xarray as xr\n",
    "import itertools\n",
    "import scipy\n",
    "import statsmodels.api as sm\n",
    "\n",
    "from sklearn import cluster\n",
    "from sklearn import neighbors\n",
    "from sklearn.model_selection import train_test_split, ShuffleSplit, cross_validate\n",
    "from sklearn import metrics, cluster\n",
    "\n",
    "from sklearn.tree import DecisionTreeRegressor\n",
    "from sklearn.ensemble import AdaBoostRegressor\n",
    "\n",
    "from sklearn.dummy import DummyRegressor\n",
    "from sklearn.model_selection import ShuffleSplit, GroupKFold, cross_validate, GridSearchCV\n",
    "from sklearn.linear_model import LinearRegression, Lasso, lasso_path\n",
    "\n",
    "from sklearn.preprocessing import KBinsDiscretizer, StandardScaler\n",
    "\n",
    "import cvxpy as cp"
   ]
  },
  {
   "cell_type": "markdown",
   "id": "4cb657d4-97a5-4fd6-a010-aea46ac475d2",
   "metadata": {},
   "source": [
    "# Simulation 1 - PCO2 unrelated to remote sensing features"
   ]
  },
  {
   "cell_type": "code",
   "execution_count": 35,
   "id": "e4f13dd2-937d-4139-b101-3da197efe9f6",
   "metadata": {},
   "outputs": [],
   "source": [
    "MEAN_EFFECT = 15\n",
    "SD_EFFECT = 60\n",
    "sim_rs = np.random.normal(MEAN_EFFECT, SD_EFFECT, 200)\n",
    "sim_rs = pd.Series(sim_rs).agg(['mean', 'std'])\n",
    "sim_srs = np.random.normal(MEAN_EFFECT, SD_EFFECT, 200)\n",
    "sim_srs = pd.Series(sim_srs).agg(['mean', 'std'])\n",
    "sim_dop = np.random.normal(MEAN_EFFECT, SD_EFFECT, 200)\n",
    "sim_dop = pd.Series(sim_dop).agg(['mean', 'std'])"
   ]
  },
  {
   "cell_type": "code",
   "execution_count": 36,
   "id": "984f39e0-56da-4be0-983c-753a418e2d7f",
   "metadata": {},
   "outputs": [
    {
     "data": {
      "text/html": [
       "<div>\n",
       "<style scoped>\n",
       "    .dataframe tbody tr th:only-of-type {\n",
       "        vertical-align: middle;\n",
       "    }\n",
       "\n",
       "    .dataframe tbody tr th {\n",
       "        vertical-align: top;\n",
       "    }\n",
       "\n",
       "    .dataframe thead th {\n",
       "        text-align: right;\n",
       "    }\n",
       "</style>\n",
       "<table border=\"1\" class=\"dataframe\">\n",
       "  <thead>\n",
       "    <tr style=\"text-align: right;\">\n",
       "      <th></th>\n",
       "      <th>rs</th>\n",
       "      <th>srs</th>\n",
       "      <th>dop</th>\n",
       "    </tr>\n",
       "  </thead>\n",
       "  <tbody>\n",
       "    <tr>\n",
       "      <th>mean</th>\n",
       "      <td>16.939501</td>\n",
       "      <td>10.634237</td>\n",
       "      <td>15.030179</td>\n",
       "    </tr>\n",
       "    <tr>\n",
       "      <th>std</th>\n",
       "      <td>59.516350</td>\n",
       "      <td>63.243873</td>\n",
       "      <td>64.011626</td>\n",
       "    </tr>\n",
       "  </tbody>\n",
       "</table>\n",
       "</div>"
      ],
      "text/plain": [
       "             rs        srs        dop\n",
       "mean  16.939501  10.634237  15.030179\n",
       "std   59.516350  63.243873  64.011626"
      ]
     },
     "execution_count": 36,
     "metadata": {},
     "output_type": "execute_result"
    }
   ],
   "source": [
    "sim = pd.concat((sim_rs, sim_srs, sim_dop), axis=1)\n",
    "sim.columns = ['rs', 'srs', 'dop']\n",
    "sim"
   ]
  },
  {
   "cell_type": "markdown",
   "id": "d92199a6-1e2b-4ba7-9c6b-c9292ae72d85",
   "metadata": {},
   "source": [
    "# Simulation 2 - pCO2 as a function of remote sensing features"
   ]
  },
  {
   "cell_type": "markdown",
   "id": "d4b04934-35fc-4ad2-be5c-56044c48a435",
   "metadata": {},
   "source": [
    "## Read in temp and color data"
   ]
  },
  {
   "cell_type": "code",
   "execution_count": 45,
   "id": "5029add3-c7ad-42f4-b20c-b6a794190cb9",
   "metadata": {},
   "outputs": [],
   "source": [
    "repo_path = Path('/Users/etriesch/dev/ocean-carbon-sampling/')\n",
    "data_clean_path = repo_path / 'data/clean/'\n",
    "data_raw_path = repo_path / 'data/raw/'\n",
    "geo_crs = 'epsg:4326'\n",
    "proj_crs = '+proj=cea'"
   ]
  },
  {
   "cell_type": "code",
   "execution_count": 62,
   "id": "d6f40df8-8bfc-4bf6-beae-9bcc85277fe0",
   "metadata": {},
   "outputs": [],
   "source": [
    "# read in pc02\n",
    "p_raw = pd.read_csv(data_clean_path / 'ship_pc02_monthly.csv.gz')"
   ]
  },
  {
   "cell_type": "code",
   "execution_count": 63,
   "id": "00a0a64f-b498-4458-9090-4da127d9ae4e",
   "metadata": {},
   "outputs": [],
   "source": [
    "# read annual data\n",
    "ta_raw = pd.read_csv(data_clean_path / 'sst_annual.csv')\n",
    "ca_raw = pd.read_csv(data_clean_path / 'chlor_a_annual.csv')\n",
    "\n",
    "# drop and rename columns\n",
    "ca_cln = (ca_raw\n",
    "          .rename(columns={'below_mean':'below_mean_ca', \n",
    "                           'months_below_mean':'months_below_mean_ca',\n",
    "                          'bimodal_chl':'bimodal_ca'})\n",
    "          .drop(columns=['drop_below_mean', 'pacific', 'lat', 'lon']))\n",
    "ta_cln = (ta_raw.drop(columns=['pacific']))"
   ]
  },
  {
   "cell_type": "code",
   "execution_count": 109,
   "id": "da651f39-c0aa-4915-b472-bccdf8e69f9c",
   "metadata": {},
   "outputs": [],
   "source": [
    "# merge on x/y values\n",
    "a_merge = pd.merge(left=ca_cln, right=ta_cln, on=['x', 'y', 'year'], suffixes=('_ca', '_ta'))\n",
    "ma = pd.merge(left=p_raw, right=a_merge, on=['x', 'y', 'year'], suffixes=(None, None))"
   ]
  },
  {
   "cell_type": "code",
   "execution_count": 110,
   "id": "ca01e36c-c648-4422-9360-33f17ed15e4c",
   "metadata": {},
   "outputs": [],
   "source": [
    "# scalarize annual variables\n",
    "scale_cols = ['std_ca', 'max_ca', 'mean_ca', 'below_mean_ca', 'months_below_mean_ca', 'bimodal_ca', 'std_ta', 'max_ta', 'mean_ta']\n",
    "scaler = StandardScaler(copy=True, with_mean=True, with_std=True)\n",
    "scaler.fit(ma[scale_cols])\n",
    "ma_scaled = pd.DataFrame(scaler.transform(ma[scale_cols]), columns=scale_cols)\n",
    "ma_scaled = pd.merge(left=ma[['lat', 'lon', 'x', 'y', 'pco2_teq']], right=ma_scaled, left_index=True, right_index=True)"
   ]
  },
  {
   "cell_type": "code",
   "execution_count": 87,
   "id": "105adc2c-b15a-4e60-8524-752180511b43",
   "metadata": {},
   "outputs": [],
   "source": [
    "# read data\n",
    "t_raw = pd.read_csv(data_clean_path / 'sst.csv')\n",
    "c_raw = pd.read_csv(data_clean_path / 'chlor_a.csv')\n",
    "# c_ann_raw = pd.read_csv(data_clean_path / 'chlor_a_annual.csv')"
   ]
  },
  {
   "cell_type": "code",
   "execution_count": 88,
   "id": "4d78e8c1-4aa9-4de1-be50-e8144cc03b89",
   "metadata": {
    "tags": []
   },
   "outputs": [],
   "source": [
    "# merge on x/y values\n",
    "m = pd.merge(left=c_raw, right=t_raw, how='inner', on=['x', 'y'], suffixes=('_c', '_t'))"
   ]
  },
  {
   "cell_type": "code",
   "execution_count": 111,
   "id": "c258b17f-c3b1-4016-a910-aa9659a03703",
   "metadata": {},
   "outputs": [],
   "source": [
    "# scalarize overall variables\n",
    "scale_cols = ['std_c', 'max_c', 'mean_c', 'below_mean', 'months_below_mean', 'bimodal_chl', 'std_t', 'max_t', 'mean_t']\n",
    "scaler = StandardScaler(copy=True, with_mean=True, with_std=True)\n",
    "scaler.fit(m[scale_cols])\n",
    "m_scaled = pd.DataFrame(scaler.transform(m[scale_cols]), columns=scale_cols)\n",
    "\n",
    "m_scaled = pd.merge(left=m_sub[['lat', 'lon', 'x', 'y', 'pco2_teq']], right=m_scaled, left_index=True, right_index=True)"
   ]
  },
  {
   "cell_type": "code",
   "execution_count": 112,
   "id": "c5a3fc57-738a-4a26-b511-884f7702e6e2",
   "metadata": {
    "tags": []
   },
   "outputs": [],
   "source": [
    "# make geodataframe\n",
    "geo = [Point(lon, lat) for lat, lon in zip(m_scaled.lat, m_scaled.lon)]\n",
    "geo_m = gpd.GeoDataFrame(m_scaled, geometry=geo, crs=geo_crs)"
   ]
  },
  {
   "cell_type": "markdown",
   "id": "8cc55ace-2480-4592-b8e6-0bf1192d1ba4",
   "metadata": {},
   "source": [
    "## Subset to sample zones"
   ]
  },
  {
   "cell_type": "code",
   "execution_count": 115,
   "id": "3c7686e9-e942-4bc4-95c8-bc248952e0a6",
   "metadata": {},
   "outputs": [],
   "source": [
    "# load coastlines (saved locally)\n",
    "boundary_fp = data_raw_path / 'stanford-vg541kt0643-shapefile.zip'\n",
    "boundary = gpd.read_file(data_raw_path / boundary_fp).to_crs(geo_crs)"
   ]
  },
  {
   "cell_type": "code",
   "execution_count": 116,
   "id": "763c0bfd-29f9-4f38-8640-e6f0159e850b",
   "metadata": {},
   "outputs": [],
   "source": [
    "# Monterrey desal mask\n",
    "ca_cent = [-121.788649, 36.802834]\n",
    "ca_lats = [33.48, 39.48]\n",
    "ca_lons = [-125.48, -119.48]\n",
    "# Texas desal mask\n",
    "tx_cent = [-95.311296, 28.927239]\n",
    "tx_lats = [25.57, 31.57]\n",
    "tx_lons = [-98.21, -92.21]\n",
    "# NH desal mask\n",
    "nh_cent = [-70.799678, 42.563588]\n",
    "nh_lats = [39.38, 45.38]\n",
    "nh_lons = [-73.50, -67.50]"
   ]
  },
  {
   "cell_type": "code",
   "execution_count": 117,
   "id": "4f357bfb-b6a7-46c0-b4b0-9db4a391cc54",
   "metadata": {},
   "outputs": [],
   "source": [
    "# make disks\n",
    "BUFFER = 1.5\n",
    "ca_disc = gpd.GeoSeries(Point(ca_cent), crs=proj_crs).buffer(BUFFER).set_crs(geo_crs, allow_override=True)\n",
    "ca_disc = gpd.GeoDataFrame(geometry=ca_disc)\n",
    "tx_disc = gpd.GeoSeries(Point(tx_cent), crs=proj_crs).buffer(BUFFER).set_crs(geo_crs, allow_override=True)\n",
    "tx_disc = gpd.GeoDataFrame(geometry=tx_disc)\n",
    "nh_disc = gpd.GeoSeries(Point(nh_cent), crs=proj_crs).buffer(BUFFER).set_crs(geo_crs, allow_override=True)\n",
    "nh_disc = gpd.GeoDataFrame(geometry=nh_disc)\n",
    "# cut discs at coastal boundary\n",
    "ca = ca_disc.overlay(boundary, how='difference')\n",
    "tx = tx_disc.overlay(boundary, how='difference')\n",
    "nh = nh_disc.overlay(boundary, how='difference')"
   ]
  },
  {
   "cell_type": "code",
   "execution_count": 118,
   "id": "1176f53d-44bb-4ec3-a4c2-d123a7b07783",
   "metadata": {},
   "outputs": [],
   "source": [
    "# make sample zones\n",
    "pac_sample = geo_m.overlay(ca, how='intersection')\n",
    "atl_sample = geo_m.overlay(nh, how='intersection')\n",
    "gul_sample = geo_m.overlay(tx, how='intersection')"
   ]
  },
  {
   "cell_type": "markdown",
   "id": "963e012e-9f1a-4d48-8a31-ffdf5eb19006",
   "metadata": {},
   "source": [
    "## Simulate data"
   ]
  },
  {
   "cell_type": "code",
   "execution_count": 106,
   "id": "d7d46d1e-5233-4f2f-8ca3-53503e242590",
   "metadata": {},
   "outputs": [],
   "source": [
    "# run regression\n",
    "response = 'pco2_teq'\n",
    "fit_features = ['max_ta', 'std_ca', 'months_below_mean_ca', 'below_mean_ca']\n",
    "X = sm.add_constant(geo_m[features], prepend=False)\n",
    "lm = sm.OLS(endog=geo_m[response], exog=X, hasconst=True)\n",
    "res = lm.fit()\n",
    "res.params['const'] = MEAN_EFFECT\n",
    "betas = res.params"
   ]
  },
  {
   "cell_type": "code",
   "execution_count": 145,
   "id": "371dfc62-aec2-4a77-8ebb-4252ae49db04",
   "metadata": {},
   "outputs": [],
   "source": [
    "# get population value\n",
    "ocean = gul_sample\n",
    "pred_features = ['max_t', 'std_c', 'months_below_mean', 'below_mean']\n",
    "X_pred = sm.add_constant(ocean[pred_features], prepend=False)\n",
    "yhat = X_pred @ betas.values + np.random.normal(0, SD_EFFECT, X_pred.shape[0])"
   ]
  },
  {
   "cell_type": "code",
   "execution_count": 146,
   "id": "e7f02d1a-4932-460c-ad6d-ed7090d12a95",
   "metadata": {},
   "outputs": [
    {
     "data": {
      "text/plain": [
       "0    20.605812\n",
       "1    60.921297\n",
       "dtype: float64"
      ]
     },
     "execution_count": 146,
     "metadata": {},
     "output_type": "execute_result"
    }
   ],
   "source": [
    "sim_true = pd.Series((yhat.mean(), yhat.std()))\n",
    "sim_true"
   ]
  },
  {
   "cell_type": "code",
   "execution_count": null,
   "id": "b6f876cb-c232-41f0-a3d1-78ff07cb2cf0",
   "metadata": {},
   "outputs": [],
   "source": []
  },
  {
   "cell_type": "markdown",
   "id": "c97e73ec-e8e7-488b-8242-32ff24595352",
   "metadata": {},
   "source": [
    "# Simulation 3 - pCO2 as a function of remote sensing features and other"
   ]
  },
  {
   "cell_type": "code",
   "execution_count": null,
   "id": "f29009c9-d12e-431e-8ad4-064bdc94b685",
   "metadata": {},
   "outputs": [],
   "source": []
  }
 ],
 "metadata": {
  "kernelspec": {
   "display_name": "Python 3 (ipykernel)",
   "language": "python",
   "name": "python3"
  },
  "language_info": {
   "codemirror_mode": {
    "name": "ipython",
    "version": 3
   },
   "file_extension": ".py",
   "mimetype": "text/x-python",
   "name": "python",
   "nbconvert_exporter": "python",
   "pygments_lexer": "ipython3",
   "version": "3.9.5"
  }
 },
 "nbformat": 4,
 "nbformat_minor": 5
}
