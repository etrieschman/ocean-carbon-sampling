{
 "cells": [
  {
   "cell_type": "markdown",
   "id": "7e10f8c7-3ea1-4f7b-9410-f34d56d7468b",
   "metadata": {},
   "source": [
    "# Sample design: D-optimal"
   ]
  },
  {
   "cell_type": "code",
   "execution_count": 128,
   "id": "eaeda72f-adba-4388-8d2f-929b293fdf50",
   "metadata": {},
   "outputs": [],
   "source": [
    "from pathlib import Path\n",
    "import os\n",
    "from tqdm import tqdm\n",
    "import pandas as pd\n",
    "import numpy as np\n",
    "import matplotlib as matplotlib\n",
    "import matplotlib.pyplot as plt\n",
    "import datetime as dt\n",
    "import shapely\n",
    "from shapely.geometry import Point, Polygon, MultiPoint, MultiPolygon\n",
    "import geopandas as gpd\n",
    "import xarray as xr\n",
    "\n",
    "from sklearn import cluster\n",
    "from sklearn import neighbors\n",
    "from sklearn.model_selection import train_test_split, ShuffleSplit, cross_validate\n",
    "from sklearn import metrics\n",
    "\n",
    "from sklearn.tree import DecisionTreeRegressor\n",
    "from sklearn.ensemble import AdaBoostRegressor\n",
    "from sklearn.model_selection import GridSearchCV\n",
    "\n",
    "from sklearn.dummy import DummyRegressor\n",
    "from sklearn.model_selection import ShuffleSplit\n",
    "from sklearn.model_selection import cross_validate\n",
    "from sklearn.linear_model import LinearRegression"
   ]
  },
  {
   "cell_type": "code",
   "execution_count": 20,
   "id": "0d9cd16f-8e8f-4e6d-8ce1-9abb4e40a27b",
   "metadata": {},
   "outputs": [],
   "source": [
    "repo_path = Path('/Users/etriesch/dev/ocean-carbon-sampling/')\n",
    "data_clean_path = repo_path / 'data/clean/'\n",
    "data_raw_path = repo_path / 'data/raw/'\n",
    "geo_crs = 'epsg:4326'\n",
    "proj_crs = '+proj=cea'"
   ]
  },
  {
   "cell_type": "markdown",
   "id": "969511c3-433d-414e-bc22-85d5ab630a09",
   "metadata": {},
   "source": [
    "## Read in and merge data"
   ]
  },
  {
   "cell_type": "code",
   "execution_count": 44,
   "id": "ddf0db20-001d-4a1c-a9d2-f05c7facba11",
   "metadata": {
    "tags": []
   },
   "outputs": [
    {
     "name": "stdout",
     "output_type": "stream",
     "text": [
      "files to read: 9\n"
     ]
    },
    {
     "name": "stderr",
     "output_type": "stream",
     "text": [
      "100%|█████████████████████████████████████████████| 9/9 [00:36<00:00,  4.11s/it]\n"
     ]
    }
   ],
   "source": [
    "# read in chlorophyl chunks\n",
    "c_path = data_clean_path / 'chlor_a_monthly'\n",
    "c_files = [f for f in os.listdir(c_path) if f.endswith('.csv.gz')]\n",
    "c_files.sort()\n",
    "print('files to read:', len(c_files))\n",
    "c_raw = pd.DataFrame()\n",
    "for f in tqdm(c_files):\n",
    "    c = pd.read_csv(data_clean_path / 'chlor_a_monthly' / f)\n",
    "    c_raw = pd.concat([c, c_raw])"
   ]
  },
  {
   "cell_type": "code",
   "execution_count": 45,
   "id": "d4f472c3-206e-4d51-9f9f-761dbfbe2fa6",
   "metadata": {
    "tags": []
   },
   "outputs": [
    {
     "name": "stdout",
     "output_type": "stream",
     "text": [
      "files to read: 9\n"
     ]
    },
    {
     "name": "stderr",
     "output_type": "stream",
     "text": [
      "100%|█████████████████████████████████████████████| 9/9 [00:34<00:00,  3.89s/it]\n"
     ]
    }
   ],
   "source": [
    "# read in temperature chunks\n",
    "t_path = data_clean_path / 'sst_monthly'\n",
    "t_files = [f for f in os.listdir(t_path) if f.endswith('.csv.gz')]\n",
    "t_files.sort()\n",
    "print('files to read:', len(t_files))\n",
    "t_raw = pd.DataFrame()\n",
    "for f in tqdm(t_files):\n",
    "    t = pd.read_csv(data_clean_path / 'sst_monthly' / f)\n",
    "    t_raw = pd.concat([t, t_raw])"
   ]
  },
  {
   "cell_type": "code",
   "execution_count": 101,
   "id": "b077d8f8-7b1e-4db7-9b6e-32a336b74d66",
   "metadata": {},
   "outputs": [],
   "source": [
    "# read in pc02\n",
    "p_raw = pd.read_csv(data_clean_path / 'ship_pc02_monthly.csv.gz')"
   ]
  },
  {
   "cell_type": "code",
   "execution_count": 106,
   "id": "779fe9f1-e5f8-42f0-a077-b477635edfdb",
   "metadata": {},
   "outputs": [
    {
     "name": "stdout",
     "output_type": "stream",
     "text": [
      "Merged data shape: (155726, 29)\n",
      "Merged data shape after dropping missing: (154701, 29)\n"
     ]
    }
   ],
   "source": [
    "# merge on x/y values\n",
    "m = pd.merge(left=p_raw, right=c_raw, how='left', on=['x', 'y', 'year', 'month'], suffixes=('_p', '_c'))\n",
    "m = pd.merge(left=m, right=t_raw, how='left', on=['x', 'y', 'year', 'month'], suffixes=('', '_t'))\n",
    "print('Merged data shape:', m.shape)\n",
    "# drop any missing\n",
    "m_sub = m.loc[m.chlor_a_cln.notna() & m.sst_cln.notna()]\n",
    "print('Merged data shape after dropping missing:', m_sub.shape)"
   ]
  },
  {
   "cell_type": "code",
   "execution_count": 132,
   "id": "0766d7de-1bf2-43c5-b5b3-48a437e53006",
   "metadata": {},
   "outputs": [],
   "source": [
    "# read annual data\n",
    "t_annual_raw = pd.read_csv(data_clean_path / 'sst_annual.csv')\n",
    "c_annual_raw = pd.read_csv(data_clean_path / 'chlor_a_annual.csv')"
   ]
  },
  {
   "cell_type": "code",
   "execution_count": 133,
   "id": "7fb2eeb8-5578-4322-9730-bf12c4b86f43",
   "metadata": {},
   "outputs": [],
   "source": [
    "# merge on x/y values\n",
    "m_sub = pd.merge(left=m_sub, right=t_annual_raw, on=['x', 'y', 'year'], suffixes=('', '_ta'))\n",
    "m_sub = pd.merge(left=m_sub, right=c_annual_raw, on=['x', 'y', 'year'], suffixes=('', '_ca'))"
   ]
  },
  {
   "cell_type": "markdown",
   "id": "80969550-8c08-41b1-b63d-566e47a18bba",
   "metadata": {},
   "source": [
    "## Make X, y input datasets"
   ]
  },
  {
   "cell_type": "code",
   "execution_count": 134,
   "id": "abf9039e-caa1-4e50-9315-16833d1da422",
   "metadata": {},
   "outputs": [],
   "source": [
    "response_col = 'pco2_teq'\n",
    "y = m_sub[response_col]\n",
    "X = m_sub.drop(columns=response_col)"
   ]
  },
  {
   "cell_type": "markdown",
   "id": "1f5643a2-f963-4352-a267-7590b7f8be95",
   "metadata": {},
   "source": [
    "## Cross validate each regression approach\n",
    "See template [here](https://github.com/etrieschman/indigo-soil-imputation/blob/master/notebooks/cross_val_interpolators_v2.ipynb)\n",
    "* Global mean\n",
    "* Ocean mean\n",
    "* KNN\n",
    "* Linear regression\n",
    "* Elastic net regression (Lasso vs. Ridge regression)\n",
    "* AdaBoost regression"
   ]
  },
  {
   "cell_type": "code",
   "execution_count": 135,
   "id": "ca12da21-ca51-41a5-97b0-e09adc1f71a7",
   "metadata": {},
   "outputs": [],
   "source": [
    "def bias(y_true, y_pred):\n",
    "    \"\"\"Return the estimated bias of the predictions\n",
    "    (the average of prediction - truth)\"\"\"\n",
    "    return (y_pred - y_true).mean()"
   ]
  },
  {
   "cell_type": "code",
   "execution_count": 136,
   "id": "7d78077d-726e-4b37-b6ae-b1d998125e0a",
   "metadata": {},
   "outputs": [],
   "source": [
    "scoring = dict(\n",
    "    neg_mean_squared_error='neg_mean_squared_error',\n",
    "    bias=metrics.make_scorer(bias),\n",
    "    r_squared='r2'\n",
    ")"
   ]
  },
  {
   "cell_type": "code",
   "execution_count": 140,
   "id": "45ef83d5-37c6-450d-a5c8-872e842052eb",
   "metadata": {},
   "outputs": [
    {
     "data": {
      "text/html": [
       "<div>\n",
       "<style scoped>\n",
       "    .dataframe tbody tr th:only-of-type {\n",
       "        vertical-align: middle;\n",
       "    }\n",
       "\n",
       "    .dataframe tbody tr th {\n",
       "        vertical-align: top;\n",
       "    }\n",
       "\n",
       "    .dataframe thead th {\n",
       "        text-align: right;\n",
       "    }\n",
       "</style>\n",
       "<table border=\"1\" class=\"dataframe\">\n",
       "  <thead>\n",
       "    <tr style=\"text-align: right;\">\n",
       "      <th></th>\n",
       "      <th>fit_time</th>\n",
       "      <th>score_time</th>\n",
       "      <th>test_neg_mean_squared_error</th>\n",
       "      <th>test_bias</th>\n",
       "      <th>test_r_squared</th>\n",
       "    </tr>\n",
       "  </thead>\n",
       "  <tbody>\n",
       "    <tr>\n",
       "      <th>count</th>\n",
       "      <td>10.000000</td>\n",
       "      <td>10.000000</td>\n",
       "      <td>10.000000</td>\n",
       "      <td>10.000000</td>\n",
       "      <td>10.000000</td>\n",
       "    </tr>\n",
       "    <tr>\n",
       "      <th>mean</th>\n",
       "      <td>1.579717</td>\n",
       "      <td>0.013918</td>\n",
       "      <td>-1174.792027</td>\n",
       "      <td>-0.728817</td>\n",
       "      <td>0.112394</td>\n",
       "    </tr>\n",
       "    <tr>\n",
       "      <th>std</th>\n",
       "      <td>0.038973</td>\n",
       "      <td>0.001046</td>\n",
       "      <td>1245.545706</td>\n",
       "      <td>4.685046</td>\n",
       "      <td>0.601356</td>\n",
       "    </tr>\n",
       "    <tr>\n",
       "      <th>min</th>\n",
       "      <td>1.536770</td>\n",
       "      <td>0.011653</td>\n",
       "      <td>-4163.264713</td>\n",
       "      <td>-12.473580</td>\n",
       "      <td>-1.057341</td>\n",
       "    </tr>\n",
       "    <tr>\n",
       "      <th>25%</th>\n",
       "      <td>1.550893</td>\n",
       "      <td>0.013641</td>\n",
       "      <td>-1197.613592</td>\n",
       "      <td>-0.677026</td>\n",
       "      <td>-0.211776</td>\n",
       "    </tr>\n",
       "    <tr>\n",
       "      <th>50%</th>\n",
       "      <td>1.569473</td>\n",
       "      <td>0.013940</td>\n",
       "      <td>-829.718957</td>\n",
       "      <td>0.475120</td>\n",
       "      <td>0.338143</td>\n",
       "    </tr>\n",
       "    <tr>\n",
       "      <th>75%</th>\n",
       "      <td>1.594398</td>\n",
       "      <td>0.014318</td>\n",
       "      <td>-371.074892</td>\n",
       "      <td>1.956869</td>\n",
       "      <td>0.513364</td>\n",
       "    </tr>\n",
       "    <tr>\n",
       "      <th>max</th>\n",
       "      <td>1.648699</td>\n",
       "      <td>0.015700</td>\n",
       "      <td>-109.308781</td>\n",
       "      <td>3.762958</td>\n",
       "      <td>0.693193</td>\n",
       "    </tr>\n",
       "  </tbody>\n",
       "</table>\n",
       "</div>"
      ],
      "text/plain": [
       "        fit_time  score_time  test_neg_mean_squared_error  test_bias  \\\n",
       "count  10.000000   10.000000                    10.000000  10.000000   \n",
       "mean    1.579717    0.013918                 -1174.792027  -0.728817   \n",
       "std     0.038973    0.001046                  1245.545706   4.685046   \n",
       "min     1.536770    0.011653                 -4163.264713 -12.473580   \n",
       "25%     1.550893    0.013641                 -1197.613592  -0.677026   \n",
       "50%     1.569473    0.013940                  -829.718957   0.475120   \n",
       "75%     1.594398    0.014318                  -371.074892   1.956869   \n",
       "max     1.648699    0.015700                  -109.308781   3.762958   \n",
       "\n",
       "       test_r_squared  \n",
       "count       10.000000  \n",
       "mean         0.112394  \n",
       "std          0.601356  \n",
       "min         -1.057341  \n",
       "25%         -0.211776  \n",
       "50%          0.338143  \n",
       "75%          0.513364  \n",
       "max          0.693193  "
      ]
     },
     "execution_count": 140,
     "metadata": {},
     "output_type": "execute_result"
    }
   ],
   "source": [
    "x_in = X.loc[:, ('pacific', 'month', 'year', 'chlor_a_cln', 'sst_cln', 'months_below_mean', 'max', 'std', 'max_ca', 'std_ca')]\n",
    "\n",
    "cv_mean = cross_validate(DecisionTreeRegressor(), X=x_in, y=y, \n",
    "    scoring=scoring, cv=10)\n",
    "pd.DataFrame(cv_mean).describe()"
   ]
  },
  {
   "cell_type": "markdown",
   "id": "78925bb6-2447-4f8b-9d47-45615095eb1a",
   "metadata": {},
   "source": [
    "## Summarize bias, variance, MSE"
   ]
  },
  {
   "cell_type": "code",
   "execution_count": null,
   "id": "bbc4e8e1-93c6-4569-bb8e-fc0cf05d6795",
   "metadata": {},
   "outputs": [],
   "source": []
  }
 ],
 "metadata": {
  "kernelspec": {
   "display_name": "Python 3 (ipykernel)",
   "language": "python",
   "name": "python3"
  },
  "language_info": {
   "codemirror_mode": {
    "name": "ipython",
    "version": 3
   },
   "file_extension": ".py",
   "mimetype": "text/x-python",
   "name": "python",
   "nbconvert_exporter": "python",
   "pygments_lexer": "ipython3",
   "version": "3.9.5"
  }
 },
 "nbformat": 4,
 "nbformat_minor": 5
}
