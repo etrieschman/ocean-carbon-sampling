{
 "cells": [
  {
   "cell_type": "code",
   "execution_count": 25,
   "id": "734ff721-8b79-4fe7-94fa-08c4cbb9851d",
   "metadata": {},
   "outputs": [],
   "source": [
    "import pandas as pd\n",
    "import numpy as np\n",
    "import matplotlib as matplotlib\n",
    "import matplotlib.pyplot as plt\n",
    "import datetime as dt\n",
    "from shapely import wkt\n",
    "import geopandas as gpd\n",
    "import netCDF4\n",
    "import xarray as xr\n",
    "import dask"
   ]
  },
  {
   "cell_type": "code",
   "execution_count": 26,
   "id": "2d936ec0-9cd6-4237-8593-36d56a18b941",
   "metadata": {},
   "outputs": [],
   "source": [
    "fn1 = '/Users/etriesch/Desktop/A20160012016031.L3m_MO_CHL_chlor_a_4km.nc'\n",
    "fn2 = '/Users/etriesch/Desktop/A20160612016091.L3m_MO_CHL_chlor_a_4km.nc'\n",
    "fn = '/Users/etriesch/Desktop/*.nc'"
   ]
  },
  {
   "cell_type": "code",
   "execution_count": 76,
   "id": "2ea39d1a-0398-43e2-a123-9d4411c00599",
   "metadata": {},
   "outputs": [],
   "source": [
    "cl = xr.open_mfdataset(fn)"
   ]
  },
  {
   "cell_type": "code",
   "execution_count": 74,
   "id": "5098fa70-9f76-4c2f-b569-32921db79e35",
   "metadata": {},
   "outputs": [],
   "source": [
    "c = cl.chlor_a.to_dataframe()"
   ]
  },
  {
   "cell_type": "code",
   "execution_count": 21,
   "id": "603ef660-5934-4281-a7c3-4f28eb3fc830",
   "metadata": {},
   "outputs": [],
   "source": [
    "cl1 = xr.open_dataset(fn1)\n",
    "cl2 = xr.open_dataset(fn2)"
   ]
  },
  {
   "cell_type": "code",
   "execution_count": 4,
   "id": "94650be7-2379-42e2-b190-9140ee4ee67e",
   "metadata": {},
   "outputs": [],
   "source": [
    "# crop data\n",
    "min_lon = -24.995\n",
    "min_lat = 25.05\n",
    "max_lon = 45.50\n",
    "max_lat = 71.55\n",
    "\n",
    "mask_lon = (cl1.lon >= min_lon) & (cl1.lon <= max_lon)\n",
    "mask_lat = (cl1.lat >= min_lat) & (cl1.lat <= max_lat)\n",
    "crop_cl1 = cl1.where(mask_lon & mask_lat, drop=True)"
   ]
  },
  {
   "cell_type": "code",
   "execution_count": 5,
   "id": "7544c965-e313-4a39-9a27-64b25981176a",
   "metadata": {},
   "outputs": [],
   "source": [
    "mask_lon = (cl2.lon >= min_lon) & (cl2.lon <= max_lon)\n",
    "mask_lat = (cl2.lat >= min_lat) & (cl2.lat <= max_lat)\n",
    "crop_cl2 = cl2.where(mask_lon & mask_lat, drop=True)"
   ]
  }
 ],
 "metadata": {
  "kernelspec": {
   "display_name": "venv.ocean-carbon-sampling",
   "language": "python",
   "name": "venv.ocean-carbon-sampling"
  },
  "language_info": {
   "codemirror_mode": {
    "name": "ipython",
    "version": 3
   },
   "file_extension": ".py",
   "mimetype": "text/x-python",
   "name": "python",
   "nbconvert_exporter": "python",
   "pygments_lexer": "ipython3",
   "version": "3.9.5"
  }
 },
 "nbformat": 4,
 "nbformat_minor": 5
}
