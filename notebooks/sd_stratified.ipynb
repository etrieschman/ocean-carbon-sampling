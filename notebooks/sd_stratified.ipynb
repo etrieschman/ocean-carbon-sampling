{
 "cells": [
  {
   "cell_type": "markdown",
   "id": "06a686f4-b699-4554-9a3e-11cc4c2a78d7",
   "metadata": {},
   "source": [
    "# Generate strata"
   ]
  },
  {
   "cell_type": "code",
   "execution_count": 1,
   "id": "5370db0f-d213-4d71-8435-ed772dbf703d",
   "metadata": {},
   "outputs": [
    {
     "name": "stderr",
     "output_type": "stream",
     "text": [
      "/Users/etriesch/.pyenv/versions/3.9.5/envs/venv.ocean-carbon-sampling/lib/python3.9/site-packages/geopandas/_compat.py:111: UserWarning: The Shapely GEOS version (3.10.2-CAPI-1.16.0) is incompatible with the GEOS version PyGEOS was compiled with (3.10.1-CAPI-1.16.0). Conversions between both will be slow.\n",
      "  warnings.warn(\n"
     ]
    }
   ],
   "source": [
    "from pathlib import Path\n",
    "from tqdm import tqdm\n",
    "import pandas as pd\n",
    "import numpy as np\n",
    "import matplotlib as matplotlib\n",
    "import matplotlib.pyplot as plt\n",
    "import seaborn as sns\n",
    "import os\n",
    "import datetime as dt\n",
    "from shapely import wkt\n",
    "from shapely.geometry import Point, Polygon\n",
    "import geopandas as gpd\n",
    "import xarray as xr"
   ]
  },
  {
   "cell_type": "markdown",
   "id": "65cc7708-df8b-42f1-b462-6766178fc87a",
   "metadata": {},
   "source": [
    "## Read in temp and color data"
   ]
  },
  {
   "cell_type": "code",
   "execution_count": null,
   "id": "c337e354-19be-4742-af7f-90ef4fa8e7c0",
   "metadata": {},
   "outputs": [],
   "source": [
    "t_raw = pd.read_csv()"
   ]
  }
 ],
 "metadata": {
  "kernelspec": {
   "display_name": "Python 3 (ipykernel)",
   "language": "python",
   "name": "python3"
  },
  "language_info": {
   "codemirror_mode": {
    "name": "ipython",
    "version": 3
   },
   "file_extension": ".py",
   "mimetype": "text/x-python",
   "name": "python",
   "nbconvert_exporter": "python",
   "pygments_lexer": "ipython3",
   "version": "3.9.5"
  }
 },
 "nbformat": 4,
 "nbformat_minor": 5
}
