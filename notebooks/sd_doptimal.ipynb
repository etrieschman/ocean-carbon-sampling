{
 "cells": [
  {
   "cell_type": "markdown",
   "id": "7e10f8c7-3ea1-4f7b-9410-f34d56d7468b",
   "metadata": {},
   "source": [
    "# Sample design: D-optimal"
   ]
  },
  {
   "cell_type": "code",
   "execution_count": 182,
   "id": "eaeda72f-adba-4388-8d2f-929b293fdf50",
   "metadata": {},
   "outputs": [],
   "source": [
    "from pathlib import Path\n",
    "import os\n",
    "from tqdm import tqdm\n",
    "import pandas as pd\n",
    "import numpy as np\n",
    "import matplotlib as matplotlib\n",
    "import matplotlib.pyplot as plt\n",
    "import datetime as dt\n",
    "import shapely\n",
    "from shapely.geometry import Point, Polygon, MultiPoint, MultiPolygon\n",
    "import geopandas as gpd\n",
    "import xarray as xr\n",
    "\n",
    "from sklearn import cluster\n",
    "from sklearn import neighbors\n",
    "from sklearn.model_selection import train_test_split, ShuffleSplit, cross_validate\n",
    "from sklearn import metrics\n",
    "\n",
    "from sklearn.tree import DecisionTreeRegressor\n",
    "from sklearn.ensemble import AdaBoostRegressor\n",
    "from sklearn.model_selection import GridSearchCV\n",
    "\n",
    "from sklearn.dummy import DummyRegressor\n",
    "from sklearn.model_selection import ShuffleSplit\n",
    "from sklearn.model_selection import cross_validate\n",
    "from sklearn.linear_model import LinearRegression\n",
    "\n",
    "import cvxpy as cp"
   ]
  },
  {
   "cell_type": "code",
   "execution_count": 20,
   "id": "0d9cd16f-8e8f-4e6d-8ce1-9abb4e40a27b",
   "metadata": {},
   "outputs": [],
   "source": [
    "repo_path = Path('/Users/etriesch/dev/ocean-carbon-sampling/')\n",
    "data_clean_path = repo_path / 'data/clean/'\n",
    "data_raw_path = repo_path / 'data/raw/'\n",
    "geo_crs = 'epsg:4326'\n",
    "proj_crs = '+proj=cea'"
   ]
  },
  {
   "cell_type": "markdown",
   "id": "969511c3-433d-414e-bc22-85d5ab630a09",
   "metadata": {},
   "source": [
    "## Read in and merge data"
   ]
  },
  {
   "cell_type": "code",
   "execution_count": 44,
   "id": "ddf0db20-001d-4a1c-a9d2-f05c7facba11",
   "metadata": {
    "tags": []
   },
   "outputs": [
    {
     "name": "stdout",
     "output_type": "stream",
     "text": [
      "files to read: 9\n"
     ]
    },
    {
     "name": "stderr",
     "output_type": "stream",
     "text": [
      "100%|█████████████████████████████████████████████| 9/9 [00:36<00:00,  4.11s/it]\n"
     ]
    }
   ],
   "source": [
    "# read in chlorophyl chunks\n",
    "c_path = data_clean_path / 'chlor_a_monthly'\n",
    "c_files = [f for f in os.listdir(c_path) if f.endswith('.csv.gz')]\n",
    "c_files.sort()\n",
    "print('files to read:', len(c_files))\n",
    "c_raw = pd.DataFrame()\n",
    "for f in tqdm(c_files):\n",
    "    c = pd.read_csv(data_clean_path / 'chlor_a_monthly' / f)\n",
    "    c_raw = pd.concat([c, c_raw])"
   ]
  },
  {
   "cell_type": "code",
   "execution_count": 45,
   "id": "d4f472c3-206e-4d51-9f9f-761dbfbe2fa6",
   "metadata": {
    "tags": []
   },
   "outputs": [
    {
     "name": "stdout",
     "output_type": "stream",
     "text": [
      "files to read: 9\n"
     ]
    },
    {
     "name": "stderr",
     "output_type": "stream",
     "text": [
      "100%|█████████████████████████████████████████████| 9/9 [00:34<00:00,  3.89s/it]\n"
     ]
    }
   ],
   "source": [
    "# read in temperature chunks\n",
    "t_path = data_clean_path / 'sst_monthly'\n",
    "t_files = [f for f in os.listdir(t_path) if f.endswith('.csv.gz')]\n",
    "t_files.sort()\n",
    "print('files to read:', len(t_files))\n",
    "t_raw = pd.DataFrame()\n",
    "for f in tqdm(t_files):\n",
    "    t = pd.read_csv(data_clean_path / 'sst_monthly' / f)\n",
    "    t_raw = pd.concat([t, t_raw])"
   ]
  },
  {
   "cell_type": "code",
   "execution_count": 101,
   "id": "b077d8f8-7b1e-4db7-9b6e-32a336b74d66",
   "metadata": {},
   "outputs": [],
   "source": [
    "# read in pc02\n",
    "p_raw = pd.read_csv(data_clean_path / 'ship_pc02_monthly.csv.gz')"
   ]
  },
  {
   "cell_type": "code",
   "execution_count": 106,
   "id": "779fe9f1-e5f8-42f0-a077-b477635edfdb",
   "metadata": {},
   "outputs": [
    {
     "name": "stdout",
     "output_type": "stream",
     "text": [
      "Merged data shape: (155726, 29)\n",
      "Merged data shape after dropping missing: (154701, 29)\n"
     ]
    }
   ],
   "source": [
    "# merge on x/y values\n",
    "m = pd.merge(left=p_raw, right=c_raw, how='left', on=['x', 'y', 'year', 'month'], suffixes=('_p', '_c'))\n",
    "m = pd.merge(left=m, right=t_raw, how='left', on=['x', 'y', 'year', 'month'], suffixes=('', '_t'))\n",
    "print('Merged data shape:', m.shape)\n",
    "# drop any missing\n",
    "m_sub = m.loc[m.chlor_a_cln.notna() & m.sst_cln.notna()]\n",
    "print('Merged data shape after dropping missing:', m_sub.shape)"
   ]
  },
  {
   "cell_type": "code",
   "execution_count": 132,
   "id": "0766d7de-1bf2-43c5-b5b3-48a437e53006",
   "metadata": {},
   "outputs": [],
   "source": [
    "# read annual data\n",
    "t_annual_raw = pd.read_csv(data_clean_path / 'sst_annual.csv')\n",
    "c_annual_raw = pd.read_csv(data_clean_path / 'chlor_a_annual.csv')"
   ]
  },
  {
   "cell_type": "code",
   "execution_count": 133,
   "id": "7fb2eeb8-5578-4322-9730-bf12c4b86f43",
   "metadata": {},
   "outputs": [],
   "source": [
    "# merge on x/y values\n",
    "m_sub = pd.merge(left=m_sub, right=t_annual_raw, on=['x', 'y', 'year'], suffixes=('', '_ta'))\n",
    "m_sub = pd.merge(left=m_sub, right=c_annual_raw, on=['x', 'y', 'year'], suffixes=('', '_ca'))"
   ]
  },
  {
   "cell_type": "markdown",
   "id": "80969550-8c08-41b1-b63d-566e47a18bba",
   "metadata": {},
   "source": [
    "## Make X, y input datasets"
   ]
  },
  {
   "cell_type": "code",
   "execution_count": 134,
   "id": "abf9039e-caa1-4e50-9315-16833d1da422",
   "metadata": {},
   "outputs": [],
   "source": [
    "response_col = 'pco2_teq'\n",
    "y = m_sub[response_col]\n",
    "X = m_sub.drop(columns=response_col)"
   ]
  },
  {
   "cell_type": "markdown",
   "id": "1f5643a2-f963-4352-a267-7590b7f8be95",
   "metadata": {},
   "source": [
    "## Cross validate each regression approach\n",
    "See template [here](https://github.com/etrieschman/indigo-soil-imputation/blob/master/notebooks/cross_val_interpolators_v2.ipynb)\n",
    "* Global mean\n",
    "* Ocean mean\n",
    "* KNN\n",
    "* Linear regression\n",
    "* Elastic net regression (Lasso vs. Ridge regression)\n",
    "* AdaBoost regression\n",
    "* https://scikit-learn.org/stable/modules/linear_model.html#polynomial-regression-extending-linear-models-with-basis-functions"
   ]
  },
  {
   "cell_type": "code",
   "execution_count": 135,
   "id": "ca12da21-ca51-41a5-97b0-e09adc1f71a7",
   "metadata": {},
   "outputs": [],
   "source": [
    "def bias(y_true, y_pred):\n",
    "    \"\"\"Return the estimated bias of the predictions\n",
    "    (the average of prediction - truth)\"\"\"\n",
    "    return (y_pred - y_true).mean()"
   ]
  },
  {
   "cell_type": "code",
   "execution_count": 136,
   "id": "7d78077d-726e-4b37-b6ae-b1d998125e0a",
   "metadata": {},
   "outputs": [],
   "source": [
    "scoring = dict(\n",
    "    neg_mean_squared_error='neg_mean_squared_error',\n",
    "    bias=metrics.make_scorer(bias),\n",
    "    r_squared='r2'\n",
    ")"
   ]
  },
  {
   "cell_type": "code",
   "execution_count": 238,
   "id": "45ef83d5-37c6-450d-a5c8-872e842052eb",
   "metadata": {},
   "outputs": [
    {
     "data": {
      "text/html": [
       "<div>\n",
       "<style scoped>\n",
       "    .dataframe tbody tr th:only-of-type {\n",
       "        vertical-align: middle;\n",
       "    }\n",
       "\n",
       "    .dataframe tbody tr th {\n",
       "        vertical-align: top;\n",
       "    }\n",
       "\n",
       "    .dataframe thead th {\n",
       "        text-align: right;\n",
       "    }\n",
       "</style>\n",
       "<table border=\"1\" class=\"dataframe\">\n",
       "  <thead>\n",
       "    <tr style=\"text-align: right;\">\n",
       "      <th></th>\n",
       "      <th>fit_time</th>\n",
       "      <th>score_time</th>\n",
       "      <th>test_neg_mean_squared_error</th>\n",
       "      <th>test_bias</th>\n",
       "      <th>test_r_squared</th>\n",
       "    </tr>\n",
       "  </thead>\n",
       "  <tbody>\n",
       "    <tr>\n",
       "      <th>count</th>\n",
       "      <td>10.000000</td>\n",
       "      <td>10.000000</td>\n",
       "      <td>10.000000</td>\n",
       "      <td>10.000000</td>\n",
       "      <td>10.000000</td>\n",
       "    </tr>\n",
       "    <tr>\n",
       "      <th>mean</th>\n",
       "      <td>0.523331</td>\n",
       "      <td>0.011266</td>\n",
       "      <td>-1158.623183</td>\n",
       "      <td>-0.291505</td>\n",
       "      <td>0.067389</td>\n",
       "    </tr>\n",
       "    <tr>\n",
       "      <th>std</th>\n",
       "      <td>0.016804</td>\n",
       "      <td>0.001059</td>\n",
       "      <td>1005.926409</td>\n",
       "      <td>5.418074</td>\n",
       "      <td>0.461708</td>\n",
       "    </tr>\n",
       "    <tr>\n",
       "      <th>min</th>\n",
       "      <td>0.496693</td>\n",
       "      <td>0.009504</td>\n",
       "      <td>-3474.884438</td>\n",
       "      <td>-11.722289</td>\n",
       "      <td>-0.872958</td>\n",
       "    </tr>\n",
       "    <tr>\n",
       "      <th>25%</th>\n",
       "      <td>0.515597</td>\n",
       "      <td>0.010598</td>\n",
       "      <td>-1221.999446</td>\n",
       "      <td>-3.024189</td>\n",
       "      <td>-0.227350</td>\n",
       "    </tr>\n",
       "    <tr>\n",
       "      <th>50%</th>\n",
       "      <td>0.519326</td>\n",
       "      <td>0.011301</td>\n",
       "      <td>-968.591583</td>\n",
       "      <td>0.101861</td>\n",
       "      <td>0.202001</td>\n",
       "    </tr>\n",
       "    <tr>\n",
       "      <th>75%</th>\n",
       "      <td>0.528154</td>\n",
       "      <td>0.011531</td>\n",
       "      <td>-520.815382</td>\n",
       "      <td>3.796112</td>\n",
       "      <td>0.424981</td>\n",
       "    </tr>\n",
       "    <tr>\n",
       "      <th>max</th>\n",
       "      <td>0.551513</td>\n",
       "      <td>0.013322</td>\n",
       "      <td>-154.207586</td>\n",
       "      <td>6.142043</td>\n",
       "      <td>0.520801</td>\n",
       "    </tr>\n",
       "  </tbody>\n",
       "</table>\n",
       "</div>"
      ],
      "text/plain": [
       "        fit_time  score_time  test_neg_mean_squared_error  test_bias  \\\n",
       "count  10.000000   10.000000                    10.000000  10.000000   \n",
       "mean    0.523331    0.011266                 -1158.623183  -0.291505   \n",
       "std     0.016804    0.001059                  1005.926409   5.418074   \n",
       "min     0.496693    0.009504                 -3474.884438 -11.722289   \n",
       "25%     0.515597    0.010598                 -1221.999446  -3.024189   \n",
       "50%     0.519326    0.011301                  -968.591583   0.101861   \n",
       "75%     0.528154    0.011531                  -520.815382   3.796112   \n",
       "max     0.551513    0.013322                  -154.207586   6.142043   \n",
       "\n",
       "       test_r_squared  \n",
       "count       10.000000  \n",
       "mean         0.067389  \n",
       "std          0.461708  \n",
       "min         -0.872958  \n",
       "25%         -0.227350  \n",
       "50%          0.202001  \n",
       "75%          0.424981  \n",
       "max          0.520801  "
      ]
     },
     "execution_count": 238,
     "metadata": {},
     "output_type": "execute_result"
    }
   ],
   "source": [
    "# x_in = X.loc[:, ('pacific', 'month', 'year', 'chlor_a_cln', 'sst_cln', 'months_below_mean', 'max', 'std', 'max_ca', 'std_ca')]\n",
    "x_in = X.loc[:, ('pacific', 'month', 'chlor_a_cln', 'sst_cln')]\n",
    "\n",
    "cv_mean = cross_validate(DecisionTreeRegressor(), X=x_in, y=y, \n",
    "    scoring=scoring, cv=10)\n",
    "pd.DataFrame(cv_mean).describe()"
   ]
  },
  {
   "cell_type": "markdown",
   "id": "78925bb6-2447-4f8b-9d47-45615095eb1a",
   "metadata": {},
   "source": [
    "## Summarize bias, variance, MSE"
   ]
  },
  {
   "cell_type": "markdown",
   "id": "c7cb577d-54d7-4fcd-8a02-9fe9f78fa4b9",
   "metadata": {},
   "source": [
    "# d-optimal design"
   ]
  },
  {
   "cell_type": "code",
   "execution_count": 239,
   "id": "d25f5ce6-1d59-4e22-8239-4ed355677115",
   "metadata": {},
   "outputs": [],
   "source": [
    "from sklearn.preprocessing import KBinsDiscretizer"
   ]
  },
  {
   "cell_type": "code",
   "execution_count": 255,
   "id": "c155b17b-becf-48d3-85dc-29ef185c17b3",
   "metadata": {},
   "outputs": [],
   "source": [
    "# discretize variables (this is the entire possibility of experiements)\n",
    "disc_eq_width = KBinsDiscretizer(n_bins=10, encode='ordinal', strategy='uniform')\n",
    "disc_eq_freq = KBinsDiscretizer(n_bins=10, encode='ordinal', strategy='quantile')\n",
    "disc_kmeans = KBinsDiscretizer(n_bins=5, encode='ordinal', strategy='kmeans')\n",
    "\n",
    "# discretize input dataset\n",
    "x_disc = pd.DataFrame(disc_eq_width.fit_transform(x_in)).drop_duplicates()\n",
    "x_disc.columns = x_in.columns\n",
    "x_disc_mat = x_disc.to_numpy()"
   ]
  },
  {
   "cell_type": "code",
   "execution_count": 256,
   "id": "bd76f046-dfab-47b3-bdd1-6e75f7faea4d",
   "metadata": {},
   "outputs": [
    {
     "name": "stdout",
     "output_type": "stream",
     "text": [
      "status: optimal\n",
      "optimal value: -13.620997508420519\n"
     ]
    }
   ],
   "source": [
    "# set up convex problem\n",
    "x_disc_mat = x_disc.to_numpy()\n",
    "p = x_disc_mat.shape[0]\n",
    "I = np.identity(p)\n",
    "\n",
    "# array of x_i @ x_i.T\n",
    "xxT = [np.outer(x_disc_mat[i,], x_disc_mat[i,]) for i in range(p)]\n",
    "\n",
    "# variable\n",
    "l = cp.Variable(p)\n",
    "\n",
    "# constraints\n",
    "constraints = [l >= 0, cp.sum(l) == 1]\n",
    "\n",
    "# objective\n",
    "cost = [l[i] * xxT[i] for i in range(p)]\n",
    "obj = cp.Minimize(-cp.log_det(cp.sum(cost)))\n",
    "\n",
    "# problem\n",
    "prob = cp.Problem(obj, constraints)\n",
    "prob.solve()\n",
    "print('status:', prob.status)\n",
    "print('optimal value:', prob.value)"
   ]
  },
  {
   "cell_type": "code",
   "execution_count": 257,
   "id": "cfb5964f-3de5-40a0-b77d-c609e145a5a2",
   "metadata": {},
   "outputs": [
    {
     "data": {
      "text/plain": [
       "count    8.140000e+02\n",
       "mean     1.228501e-03\n",
       "std      1.384035e-02\n",
       "min     -7.420027e-07\n",
       "25%     -2.919113e-07\n",
       "50%     -1.480389e-07\n",
       "75%      4.428941e-08\n",
       "max      2.022624e-01\n",
       "dtype: float64"
      ]
     },
     "execution_count": 257,
     "metadata": {},
     "output_type": "execute_result"
    }
   ],
   "source": [
    "pd.Series(l.value).describe()"
   ]
  },
  {
   "cell_type": "code",
   "execution_count": 258,
   "id": "37570654-65a2-4699-bf1a-796efe0337d2",
   "metadata": {},
   "outputs": [
    {
     "data": {
      "text/plain": [
       "0.0     806\n",
       "40.0      2\n",
       "20.0      1\n",
       "26.0      1\n",
       "23.0      1\n",
       "5.0       1\n",
       "9.0       1\n",
       "37.0      1\n",
       "dtype: int64"
      ]
     },
     "execution_count": 258,
     "metadata": {},
     "output_type": "execute_result"
    }
   ],
   "source": [
    "pd.Series(np.round(200*l.value)).value_counts()"
   ]
  },
  {
   "cell_type": "code",
   "execution_count": null,
   "id": "1e61bfb0-2d71-491b-9d7d-5b55746fd19f",
   "metadata": {},
   "outputs": [],
   "source": []
  }
 ],
 "metadata": {
  "kernelspec": {
   "display_name": "Python 3 (ipykernel)",
   "language": "python",
   "name": "python3"
  },
  "language_info": {
   "codemirror_mode": {
    "name": "ipython",
    "version": 3
   },
   "file_extension": ".py",
   "mimetype": "text/x-python",
   "name": "python",
   "nbconvert_exporter": "python",
   "pygments_lexer": "ipython3",
   "version": "3.9.5"
  }
 },
 "nbformat": 4,
 "nbformat_minor": 5
}
