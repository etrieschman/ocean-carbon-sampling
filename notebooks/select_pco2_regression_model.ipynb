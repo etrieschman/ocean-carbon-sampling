{
 "cells": [
  {
   "cell_type": "markdown",
   "id": "7e10f8c7-3ea1-4f7b-9410-f34d56d7468b",
   "metadata": {},
   "source": [
    "# PCO2 model selection"
   ]
  },
  {
   "cell_type": "code",
   "execution_count": null,
   "id": "eaeda72f-adba-4388-8d2f-929b293fdf50",
   "metadata": {},
   "outputs": [],
   "source": [
    "\n",
    "from pathlib import Path\n",
    "from tqdm import tqdm\n",
    "import pandas as pd\n",
    "import numpy as np\n",
    "import matplotlib as matplotlib\n",
    "import matplotlib.pyplot as plt\n",
    "import datetime as dt\n",
    "import shapely\n",
    "from shapely.geometry import Point, Polygon, MultiPoint, MultiPolygon\n",
    "import geopandas as gpd\n",
    "import xarray as xr\n",
    "\n",
    "from sklearn import cluster\n",
    "from sklearn import neighbors\n",
    "from sklearn.model_selection import train_test_split, ShuffleSplit, cross_validate"
   ]
  },
  {
   "cell_type": "markdown",
   "id": "969511c3-433d-414e-bc22-85d5ab630a09",
   "metadata": {},
   "source": [
    "## Read in data"
   ]
  },
  {
   "cell_type": "markdown",
   "id": "80969550-8c08-41b1-b63d-566e47a18bba",
   "metadata": {},
   "source": [
    "## Make X, y input datasets"
   ]
  },
  {
   "cell_type": "markdown",
   "id": "c8eff403-79e4-4ce3-92db-7333e0d778c7",
   "metadata": {},
   "source": [
    "## Define train/test split approach"
   ]
  },
  {
   "cell_type": "code",
   "execution_count": 5,
   "id": "d3f93d2e-ff6f-44bf-8b18-d1185f9df327",
   "metadata": {},
   "outputs": [],
   "source": [
    "# NOTE: Consider a splitter that holds out groups of neighboring points"
   ]
  },
  {
   "cell_type": "markdown",
   "id": "1f5643a2-f963-4352-a267-7590b7f8be95",
   "metadata": {},
   "source": [
    "## Cross validate each regression approach\n",
    "See template [here](https://github.com/etrieschman/indigo-soil-imputation/blob/master/notebooks/cross_val_interpolators_v2.ipynb)\n",
    "* Global mean\n",
    "* Ocean mean\n",
    "* KNN\n",
    "* Linear regression\n",
    "* Elastic net regression (Lasso vs. Ridge regression)\n",
    "* AdaBoost regression"
   ]
  },
  {
   "cell_type": "code",
   "execution_count": null,
   "id": "ca12da21-ca51-41a5-97b0-e09adc1f71a7",
   "metadata": {},
   "outputs": [],
   "source": [
    "def bias(y_true, y_pred):\n",
    "    \"\"\"Return the estimated bias of the predictions\n",
    "    (the average of prediction - truth)\"\"\"\n",
    "    return (y_pred - y_true).mean()"
   ]
  },
  {
   "cell_type": "code",
   "execution_count": null,
   "id": "7d78077d-726e-4b37-b6ae-b1d998125e0a",
   "metadata": {},
   "outputs": [],
   "source": [
    "scoring = dict(\n",
    "    neg_mean_squared_error='neg_mean_squared_error',\n",
    "    bias=metrics.make_scorer(bias),\n",
    "    r_squared='r2_score'\n",
    ")"
   ]
  },
  {
   "cell_type": "code",
   "execution_count": null,
   "id": "45ef83d5-37c6-450d-a5c8-872e842052eb",
   "metadata": {},
   "outputs": [],
   "source": [
    "params = {'param1': VALUE}\n",
    "x_in = X.loc[:, ('cola', 'colb')]\n",
    "\n",
    "cv_mean = cross_validate(estimator, X=x_in, y=y, \n",
    "    scoring=scoring, cv=10, fit_params=params)\n",
    "cv_mean"
   ]
  },
  {
   "cell_type": "markdown",
   "id": "78925bb6-2447-4f8b-9d47-45615095eb1a",
   "metadata": {},
   "source": [
    "## Summarize bias, variance, MSE"
   ]
  },
  {
   "cell_type": "code",
   "execution_count": null,
   "id": "bbc4e8e1-93c6-4569-bb8e-fc0cf05d6795",
   "metadata": {},
   "outputs": [],
   "source": []
  }
 ],
 "metadata": {
  "kernelspec": {
   "display_name": "Python 3 (ipykernel)",
   "language": "python",
   "name": "python3"
  },
  "language_info": {
   "codemirror_mode": {
    "name": "ipython",
    "version": 3
   },
   "file_extension": ".py",
   "mimetype": "text/x-python",
   "name": "python",
   "nbconvert_exporter": "python",
   "pygments_lexer": "ipython3",
   "version": "3.9.5"
  }
 },
 "nbformat": 4,
 "nbformat_minor": 5
}
