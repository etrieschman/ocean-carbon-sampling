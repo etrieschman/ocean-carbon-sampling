{
 "cells": [
  {
   "cell_type": "markdown",
   "id": "25f7cc9c-9a99-412c-a04b-13786dc7d53a",
   "metadata": {},
   "source": [
    "# Feature selection"
   ]
  },
  {
   "cell_type": "code",
   "execution_count": 214,
   "id": "85fda6f6-43ef-4ab2-bb69-9b79e9d0c155",
   "metadata": {
    "tags": []
   },
   "outputs": [],
   "source": [
    "from pathlib import Path\n",
    "import os\n",
    "from tqdm import tqdm\n",
    "import pandas as pd\n",
    "import numpy as np\n",
    "import matplotlib as matplotlib\n",
    "import matplotlib.pyplot as plt\n",
    "import datetime as dt\n",
    "import shapely\n",
    "from shapely.geometry import Point, Polygon, MultiPoint, MultiPolygon\n",
    "import geopandas as gpd\n",
    "import xarray as xr\n",
    "import itertools\n",
    "import scipy\n",
    "import statsmodels.api as sm\n",
    "\n",
    "from sklearn import cluster\n",
    "from sklearn import neighbors\n",
    "from sklearn.model_selection import train_test_split, ShuffleSplit, cross_validate\n",
    "from sklearn import metrics, cluster\n",
    "\n",
    "from sklearn.tree import DecisionTreeRegressor\n",
    "from sklearn.ensemble import AdaBoostRegressor\n",
    "\n",
    "from sklearn.dummy import DummyRegressor\n",
    "from sklearn.model_selection import ShuffleSplit, GroupKFold, cross_validate, GridSearchCV\n",
    "from sklearn.linear_model import LinearRegression, Lasso, lasso_path\n",
    "\n",
    "from sklearn.preprocessing import KBinsDiscretizer, StandardScaler\n",
    "\n",
    "import cvxpy as cp"
   ]
  },
  {
   "cell_type": "code",
   "execution_count": 97,
   "id": "6edc8998-cda2-47f7-b5ea-d96265f67139",
   "metadata": {},
   "outputs": [],
   "source": [
    "plt.rcParams.update({'font.size': 18})\n",
    "SMALL_SIZE = 10\n",
    "MEDIUM_SIZE = 14\n",
    "BIGGER_SIZE = 20\n",
    "\n",
    "plt.rc('font', size=SMALL_SIZE)          # controls default text sizes\n",
    "plt.rc('axes', titlesize=BIGGER_SIZE)     # fontsize of the axes title\n",
    "plt.rc('axes', labelsize=MEDIUM_SIZE)    # fontsize of the x and y labels\n",
    "plt.rc('xtick', labelsize=SMALL_SIZE)    # fontsize of the tick labels\n",
    "plt.rc('ytick', labelsize=SMALL_SIZE)    # fontsize of the tick labels\n",
    "plt.rc('legend', fontsize=SMALL_SIZE)    # legend fontsize\n",
    "plt.rc('figure', titlesize=BIGGER_SIZE)  # fontsize of the figure title"
   ]
  },
  {
   "cell_type": "code",
   "execution_count": 2,
   "id": "e718976c-b462-455b-af82-afc24ca58a49",
   "metadata": {},
   "outputs": [],
   "source": [
    "pd.options.mode.chained_assignment = None  # default='warn'"
   ]
  },
  {
   "cell_type": "code",
   "execution_count": 3,
   "id": "d790a0fb-7a4f-4d8b-a220-22b03c86eb94",
   "metadata": {},
   "outputs": [],
   "source": [
    "repo_path = Path('/Users/etriesch/dev/ocean-carbon-sampling/')\n",
    "data_clean_path = repo_path / 'data/clean/'\n",
    "data_raw_path = repo_path / 'data/raw/'\n",
    "geo_crs = 'epsg:4326'\n",
    "proj_crs = '+proj=cea'"
   ]
  },
  {
   "cell_type": "markdown",
   "id": "9c5e2888-9a94-4302-8e40-e55efd15d482",
   "metadata": {},
   "source": [
    "## Read in and merge data"
   ]
  },
  {
   "cell_type": "code",
   "execution_count": 39,
   "id": "12f91c4d-fb7e-443c-8a83-237048b02f7b",
   "metadata": {
    "tags": []
   },
   "outputs": [
    {
     "name": "stdout",
     "output_type": "stream",
     "text": [
      "files to read: 9\n"
     ]
    },
    {
     "name": "stderr",
     "output_type": "stream",
     "text": [
      "100%|█████████████████████████████████████████████| 9/9 [00:33<00:00,  3.75s/it]\n"
     ]
    }
   ],
   "source": [
    "# read in chlorophyl chunks\n",
    "c_path = data_clean_path / 'chlor_a_monthly'\n",
    "c_files = [f for f in os.listdir(c_path) if f.endswith('.csv.gz')]\n",
    "c_files.sort()\n",
    "print('files to read:', len(c_files))\n",
    "c_raw = pd.DataFrame()\n",
    "for f in tqdm(c_files):\n",
    "    c = pd.read_csv(data_clean_path / 'chlor_a_monthly' / f)\n",
    "    c_raw = pd.concat([c, c_raw])"
   ]
  },
  {
   "cell_type": "code",
   "execution_count": 40,
   "id": "5615ed7a-bb58-4e74-bfb3-334e872a3fe8",
   "metadata": {
    "tags": []
   },
   "outputs": [
    {
     "name": "stdout",
     "output_type": "stream",
     "text": [
      "files to read: 9\n"
     ]
    },
    {
     "name": "stderr",
     "output_type": "stream",
     "text": [
      "100%|█████████████████████████████████████████████| 9/9 [00:32<00:00,  3.59s/it]\n"
     ]
    }
   ],
   "source": [
    "# read in temperature chunks\n",
    "t_path = data_clean_path / 'sst_monthly'\n",
    "t_files = [f for f in os.listdir(t_path) if f.endswith('.csv.gz')]\n",
    "t_files.sort()\n",
    "print('files to read:', len(t_files))\n",
    "t_raw = pd.DataFrame()\n",
    "for f in tqdm(t_files):\n",
    "    t = pd.read_csv(data_clean_path / 'sst_monthly' / f)\n",
    "    t_raw = pd.concat([t, t_raw])"
   ]
  },
  {
   "cell_type": "code",
   "execution_count": 41,
   "id": "80f1f566-d5a7-474e-9122-50091140c720",
   "metadata": {},
   "outputs": [],
   "source": [
    "# read in pc02\n",
    "p_raw = pd.read_csv(data_clean_path / 'ship_pc02_monthly.csv.gz')"
   ]
  },
  {
   "cell_type": "code",
   "execution_count": 42,
   "id": "23f1f618-e585-4be3-a292-ee95233b0ed9",
   "metadata": {
    "tags": []
   },
   "outputs": [],
   "source": [
    "# rename certain columns\n",
    "c_cln = c_raw.rename(columns={'int':'int_c'}).drop(columns='date')\n",
    "t_cln = t_raw.rename(columns={'int':'int_t'}).drop(columns=['pacific', 'date'])"
   ]
  },
  {
   "cell_type": "code",
   "execution_count": 43,
   "id": "406376d9-232e-41eb-af97-55ba394866f4",
   "metadata": {},
   "outputs": [
    {
     "name": "stdout",
     "output_type": "stream",
     "text": [
      "Merged data shape: (155726, 18)\n",
      "Merged data shape after dropping missing: (154701, 18)\n"
     ]
    }
   ],
   "source": [
    "# merge on x/y values\n",
    "m = pd.merge(left=p_raw, right=c_cln, how='left', on=['x', 'y', 'year', 'month'], suffixes=('_p', '_c'))\n",
    "m = pd.merge(left=m, right=t_cln, how='left', on=['x', 'y', 'year', 'month'], suffixes=(None, '_t'))\n",
    "print('Merged data shape:', m.shape)\n",
    "# drop any missing\n",
    "m_sub = m.loc[m.chlor_a_cln.notna() & m.sst_cln.notna()]\n",
    "print('Merged data shape after dropping missing:', m_sub.shape)"
   ]
  },
  {
   "cell_type": "code",
   "execution_count": 45,
   "id": "2c732c43-ed1b-4ebf-9b88-f79b0a3c167c",
   "metadata": {},
   "outputs": [],
   "source": [
    "# read annual data\n",
    "ta_raw = pd.read_csv(data_clean_path / 'sst_annual.csv')\n",
    "ca_raw = pd.read_csv(data_clean_path / 'chlor_a_annual.csv')\n",
    "\n",
    "# drop and rename columns\n",
    "ca_cln = (ca_raw\n",
    "          .rename(columns={'below_mean':'below_mean_ca', \n",
    "                           'months_below_mean':'months_below_mean_ca',\n",
    "                          'bimodal_chl':'bimodal_ca'})\n",
    "          .drop(columns=['drop_below_mean', 'pacific', 'lat', 'lon']))\n",
    "ta_cln = (ta_raw.drop(columns=['pacific']))"
   ]
  },
  {
   "cell_type": "code",
   "execution_count": 46,
   "id": "7ea1199d-e989-4634-9429-302033fd5bf3",
   "metadata": {},
   "outputs": [],
   "source": [
    "# merge on x/y values\n",
    "a_merge = pd.merge(left=ca_cln, right=ta_cln, on=['x', 'y', 'year'], suffixes=('_ca', '_ta'))\n",
    "m_sub = pd.merge(left=m_sub, right=a_merge, on=['x', 'y', 'year'], suffixes=(None, None))"
   ]
  },
  {
   "cell_type": "code",
   "execution_count": 432,
   "id": "f10f1f18-5259-4d9d-b5bd-a9d4623077e7",
   "metadata": {},
   "outputs": [],
   "source": [
    "# read in full data and merge\n",
    "t_raw = pd.read_csv(data_clean_path / 'sst.csv')\n",
    "c_raw = pd.read_csv(data_clean_path / 'chlor_a.csv')\n",
    "o_m = pd.merge(left=t_raw, right=c_raw, how='inner', on=['x', 'y'], suffixes=('_t', '_c'))\n",
    "\n",
    "geometry = [Point(xy) for xy in zip(o_m.lon_t, o_m.lat_t)]\n",
    "geo_m = gpd.GeoDataFrame(o_m, geometry=geometry, crs=geo_crs)"
   ]
  },
  {
   "cell_type": "markdown",
   "id": "541fd861-32e6-4e8f-bee1-4a01cb172214",
   "metadata": {},
   "source": [
    "## Make X, y input datasets"
   ]
  },
  {
   "cell_type": "code",
   "execution_count": 405,
   "id": "41e5deb9-5dcf-44e8-9963-3c9b5b44c3da",
   "metadata": {},
   "outputs": [],
   "source": [
    "response_col = 'pco2_teq'\n",
    "y = m_sub[response_col]\n",
    "X = m_sub.drop(columns=[response_col, 'lon', 'lat', 'x', 'y', 'vco2_sw', 'temp_pco2', 'temp', 'sal', 'pco2_sst',\n",
    "       'pco2_sstpa', 'eq_pbaro', 'shippbaro', 'int_t', 'int_c', 'count_ca', 'count_ta'])\n",
    "X = pd.get_dummies(X, columns=['pacific'], drop_first=True)"
   ]
  },
  {
   "cell_type": "code",
   "execution_count": 408,
   "id": "8deb8b1a-aafb-49f3-985f-b4d95b16aa26",
   "metadata": {},
   "outputs": [],
   "source": [
    "X_a = X.drop(columns=['pacific_True', 'year', 'month', 'chlor_a_cln', 'sst_cln', 'bimodal_ca'])"
   ]
  },
  {
   "cell_type": "code",
   "execution_count": 409,
   "id": "1c112fea-fb0c-438f-ae52-d39a8a00c271",
   "metadata": {},
   "outputs": [],
   "source": [
    "scaler = StandardScaler(copy=True, with_mean=True, with_std=True)\n",
    "scaler.fit(X)\n",
    "X_scaled = pd.DataFrame(scaler.transform(X), columns=X.columns)\n",
    "scaler.fit(X_a)\n",
    "X_a_scaled = pd.DataFrame(scaler.transform(X_a), columns=X_a.columns)"
   ]
  },
  {
   "cell_type": "markdown",
   "id": "06ec7525-619e-4789-beae-1801e9b221ad",
   "metadata": {},
   "source": [
    "## Linear regression"
   ]
  },
  {
   "cell_type": "code",
   "execution_count": 410,
   "id": "d669f7cd-69cd-43a1-801d-2b3779812f4a",
   "metadata": {},
   "outputs": [
    {
     "name": "stdout",
     "output_type": "stream",
     "text": [
      "                            OLS Regression Results                            \n",
      "==============================================================================\n",
      "Dep. Variable:               pco2_teq   R-squared:                       0.373\n",
      "Model:                            OLS   Adj. R-squared:                  0.373\n",
      "Method:                 Least Squares   F-statistic:                     7091.\n",
      "Date:                Wed, 09 Mar 2022   Prob (F-statistic):               0.00\n",
      "Time:                        18:27:30   Log-Likelihood:            -7.3261e+05\n",
      "No. Observations:              154684   AIC:                         1.465e+06\n",
      "Df Residuals:                  154670   BIC:                         1.465e+06\n",
      "Df Model:                          13                                         \n",
      "Covariance Type:            nonrobust                                         \n",
      "========================================================================================\n",
      "                           coef    std err          t      P>|t|      [0.025      0.975]\n",
      "----------------------------------------------------------------------------------------\n",
      "month                    3.1038      0.082     37.624      0.000       2.942       3.265\n",
      "year                     0.2504      0.073      3.428      0.001       0.107       0.394\n",
      "chlor_a_cln             -8.4117      0.199    -42.361      0.000      -8.801      -8.023\n",
      "sst_cln                 34.3465      0.186    184.657      0.000      33.982      34.711\n",
      "std_ca                  -7.6359      0.317    -24.066      0.000      -8.258      -7.014\n",
      "max_ca                  -1.4902      0.609     -2.449      0.014      -2.683      -0.297\n",
      "mean_ca                 18.3905      0.408     45.129      0.000      17.592      19.189\n",
      "below_mean_ca           -0.3263      0.069     -4.762      0.000      -0.461      -0.192\n",
      "months_below_mean_ca     1.3993      0.042     33.267      0.000       1.317       1.482\n",
      "bimodal_ca              -1.9136      0.058    -32.971      0.000      -2.027      -1.800\n",
      "std_ta                  -2.5008      0.435     -5.753      0.000      -3.353      -1.649\n",
      "max_ta                  -1.3499      0.721     -1.873      0.061      -2.763       0.063\n",
      "mean_ta                -24.1444      0.962    -25.098      0.000     -26.030     -22.259\n",
      "pacific_True            -1.1928      0.109    -10.976      0.000      -1.406      -0.980\n",
      "const                  393.8157      0.070   5615.041      0.000     393.678     393.953\n",
      "==============================================================================\n",
      "Omnibus:                    38291.393   Durbin-Watson:                   1.283\n",
      "Prob(Omnibus):                  0.000   Jarque-Bera (JB):          2087348.167\n",
      "Skew:                          -0.312   Prob(JB):                         0.00\n",
      "Kurtosis:                      20.985   Cond. No.                     8.66e+15\n",
      "==============================================================================\n",
      "\n",
      "Notes:\n",
      "[1] Standard Errors assume that the covariance matrix of the errors is correctly specified.\n",
      "[2] The smallest eigenvalue is 1.39e-26. This might indicate that there are\n",
      "strong multicollinearity problems or that the design matrix is singular.\n"
     ]
    }
   ],
   "source": [
    "X_lm = sm.add_constant(X_scaled, prepend=False)\n",
    "lm = sm.OLS(endog=y, exog=X_lm, hasconst=True)\n",
    "res = lm.fit()\n",
    "print(res.summary())"
   ]
  },
  {
   "cell_type": "markdown",
   "id": "26ccb895-e11d-4ce4-921d-949fd489659e",
   "metadata": {},
   "source": [
    "# Lasso path"
   ]
  },
  {
   "cell_type": "code",
   "execution_count": 322,
   "id": "7c7ebbc4-6321-4633-b8a1-1ccb34a8c022",
   "metadata": {},
   "outputs": [],
   "source": [
    "eps = 5e-4  # the smaller it is the longer is the path\n",
    "alphas_lasso, coefs_lasso, _ = lasso_path(X_scaled, y, eps=eps)"
   ]
  },
  {
   "cell_type": "code",
   "execution_count": 411,
   "id": "425e2c7a-627f-4b3f-acb1-25d3fb277d51",
   "metadata": {},
   "outputs": [
    {
     "data": {
      "image/png": "[encoded data removed]",
      "text/plain": [
       "<Figure size 720x576 with 1 Axes>"
      ]
     },
     "metadata": {
      "needs_background": "light"
     },
     "output_type": "display_data"
    }
   ],
   "source": [
    "# Display results\n",
    "fig, ax = plt.subplots(figsize=(10, 8))\n",
    "varnames = X_a_scaled.columns\n",
    "neg_log_alphas_lasso = -np.log10(alphas_lasso)\n",
    "for coef_l, v, c in zip(coefs_lasso, varnames, colors):\n",
    "    l1 = plt.plot(neg_log_alphas_lasso, coef_l, label=v)\n",
    "\n",
    "plt.xlabel(\"-Log(alpha)\")\n",
    "plt.ylabel(\"coefficients\")\n",
    "plt.title(\"Lasso path parameter selection\")\n",
    "plt.legend(loc='right', bbox_to_anchor=(1.1, .5))\n",
    "plt.axis(\"tight\")\n",
    "plt.axvline(x=-0.1, color='r', linestyle='--')\n",
    "plt.show()"
   ]
  },
  {
   "cell_type": "markdown",
   "id": "99584a85-b531-4a2d-b7e4-b6a08c387183",
   "metadata": {},
   "source": [
    "# Lasso cross validation"
   ]
  },
  {
   "cell_type": "code",
   "execution_count": 225,
   "id": "61efdefe-108f-4365-be89-7af82fb9709f",
   "metadata": {},
   "outputs": [],
   "source": [
    "def bias(y_true, y_pred):\n",
    "    \"\"\"Return the estimated bias of the predictions\n",
    "    (the average of prediction - truth)\"\"\"\n",
    "    return (y_pred - y_true).mean()"
   ]
  },
  {
   "cell_type": "code",
   "execution_count": 243,
   "id": "e8aebe4f-c0b2-4796-9fb5-fb790edd45d0",
   "metadata": {},
   "outputs": [],
   "source": [
    "scoring = dict(\n",
    "    neg_root_mean_squared_error='neg_root_mean_squared_error',\n",
    "#     bias=metrics.make_scorer(bias),\n",
    "    r_squared='r2'\n",
    ")"
   ]
  },
  {
   "cell_type": "code",
   "execution_count": 312,
   "id": "20e71c6b-e798-4b72-8bd4-f44952093f35",
   "metadata": {},
   "outputs": [],
   "source": [
    "CLUSTERS = 6\n",
    "cl = cluster.KMeans(n_clusters=CLUSTERS)"
   ]
  },
  {
   "cell_type": "code",
   "execution_count": 315,
   "id": "966a4d20-5655-4b5d-8722-4f325d4ccee5",
   "metadata": {},
   "outputs": [],
   "source": [
    "alphas = [j*(10**i) for i in range(-2, 1) for j in range(2, 9)]"
   ]
  },
  {
   "cell_type": "code",
   "execution_count": 419,
   "id": "168bb988-e788-4b1a-af0c-fd452e9529db",
   "metadata": {},
   "outputs": [],
   "source": [
    "# global mean\n",
    "params={'alpha':alphas}\n",
    "estimator=Lasso()\n",
    "\n",
    "# run grid search for hyperparameters\n",
    "grid_search = GridSearchCV(\n",
    "            estimator=estimator, \n",
    "            param_grid=params,\n",
    "            scoring=scoring,\n",
    "            refit=False, \n",
    "            cv=GroupKFold(n_splits=CLUSTERS), \n",
    "            verbose=0, \n",
    "            return_train_score=False\n",
    ")\n",
    "\n",
    "cv_summ = pd.DataFrame()\n",
    "for ocean in [True, False]:\n",
    "    \n",
    "    dfX = X_scaled.loc[m_sub.pacific==ocean]\n",
    "    dfy = y.loc[m_sub.pacific==ocean]\n",
    "    cl.fit(m_sub.loc[m_sub.pacific==ocean, ['x', 'y']])\n",
    "    groups = cl.labels_\n",
    "    \n",
    "    cv = grid_search.fit(dfX, dfy, groups=groups)\n",
    "\n",
    "    cv = pd.DataFrame({'pacific': [ocean]*len(cv.cv_results_['params']),\n",
    "        'model': [str(estimator)]*len(cv.cv_results_['params']),\n",
    "        'params': cv.cv_results_['params'],\n",
    "        'neg_root_mean_squared_error': cv.cv_results_['mean_test_neg_root_mean_squared_error'],\n",
    "        'mean_test_r_squared': cv.cv_results_['mean_test_r_squared']}).sort_values('neg_root_mean_squared_error')\n",
    "    cv_summ = pd.concat([cv, cv_summ])\n",
    "\n",
    "lasso_cv_summ = cv_summ"
   ]
  },
  {
   "cell_type": "code",
   "execution_count": null,
   "id": "da7e50d2-e25e-49d0-b12a-aacbb15328ca",
   "metadata": {},
   "outputs": [],
   "source": []
  }
 ],
 "metadata": {
  "kernelspec": {
   "display_name": "Python 3 (ipykernel)",
   "language": "python",
   "name": "python3"
  },
  "language_info": {
   "codemirror_mode": {
    "name": "ipython",
    "version": 3
   },
   "file_extension": ".py",
   "mimetype": "text/x-python",
   "name": "python",
   "nbconvert_exporter": "python",
   "pygments_lexer": "ipython3",
   "version": "3.9.5"
  }
 },
 "nbformat": 4,
 "nbformat_minor": 5
}
